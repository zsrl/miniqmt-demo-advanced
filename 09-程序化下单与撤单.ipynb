{
 "cells": [
  {
   "cell_type": "code",
   "execution_count": null,
   "metadata": {},
   "outputs": [],
   "source": [
    "from xtquant.xttrader import XtQuantTrader, XtQuantTraderCallback\n",
    "from xtquant.xttype import StockAccount\n",
    "import random\n",
    "\n",
    "error_orders = []\n",
    "\n",
    "class MyXtQuantTraderCallback(XtQuantTraderCallback):\n",
    "    def on_disconnected(self):\n",
    "        \"\"\"\n",
    "        连接状态回调\n",
    "        :return:\n",
    "        \"\"\"\n",
    "        print(\"connection lost\")\n",
    "    def on_stock_order(self, order):\n",
    "        \"\"\"\n",
    "        委托信息推送\n",
    "        :param order: XtOrder对象\n",
    "        :return:\n",
    "        \"\"\"\n",
    "        # 委托\n",
    "        if order.order_status == 50:\n",
    "            print(f\"【已委托】 {order.order_type} 代码:{order.stock_code} 名称:{order.order_remark} 委托价格:{order.price:.2f} 委托数量:{order.order_volume} 订单编号:{order.order_id} 委托时间:{order.order_time}\")\n",
    "        elif order.order_status == 53 or order.order_status == 54:\n",
    "            print(f\"【已撤单】{order.order_type} 代码:{order.stock_code} 名称:{order.order_remark} 委托价格:{order.price:.2f} 委托数量:{order.order_volume} 订单编号:{order.order_id} 委托时间:{order.order_time}\")\n",
    "\n",
    "    def on_stock_trade(self, trade):\n",
    "        \"\"\"\n",
    "        成交信息推送\n",
    "        :param trade: XtTrade对象\n",
    "        :return:\n",
    "        \"\"\"\n",
    "        print(f\"【已成交】{trade.order_type} 代码:{trade.stock_code} 名称:{trade.order_remark} 成交价格:{trade.traded_price:.2f} 成交数量:{trade.traded_volume} 成交编号:{trade.order_id} 成交时间:{trade.traded_time}\")\n",
    "\n",
    "    def on_order_error(self, data):\n",
    "        if data.order_id in error_orders:\n",
    "            return\n",
    "        error_orders.append(data.order_id)\n",
    "        print(f\"【委托失败】错误信息:{data.error_msg.strip()}\")\n",
    "\n",
    "    def on_cancel_error(self, data):\n",
    "        if data.order_id in error_orders:\n",
    "            return\n",
    "        error_orders.append(data.order_id)\n",
    "        print(f\"【撤单失败】错误信息:{data.error_msg.strip()}\")\n",
    "\n",
    "\n",
    "def create_trader(account_id, mini_qmt_path):\n",
    "    # 创建session_id\n",
    "    session_id = int(random.randint(100000, 999999))\n",
    "    # 创建交易对象\n",
    "    xt_trader = XtQuantTrader(mini_qmt_path, session_id)\n",
    "    # 启动交易对象\n",
    "    xt_trader.start()\n",
    "    # 连接客户端\n",
    "    connect_result = xt_trader.connect()\n",
    "\n",
    "    if connect_result == 0:\n",
    "        print(f\"【miniQMT连接成功】路径:{mini_qmt_path}\")\n",
    "\n",
    "    # 创建账号对象\n",
    "    account = StockAccount(account_id)\n",
    "    # 订阅账号\n",
    "    xt_trader.subscribe(account)\n",
    "    print(f\"【账号订阅成功】账号ID:{account_id}\")\n",
    "    # 注册回调类\n",
    "    xt_trader.register_callback(MyXtQuantTraderCallback())\n",
    "\n",
    "    return xt_trader, account\n"
   ]
  },
  {
   "cell_type": "code",
   "execution_count": null,
   "metadata": {},
   "outputs": [],
   "source": [
    "xt_trader, account = create_trader(\"55003152\", r\"D:\\国金QMT交易端模拟\\userdata_mini\")"
   ]
  },
  {
   "cell_type": "code",
   "execution_count": null,
   "metadata": {},
   "outputs": [],
   "source": [
    "from xtquant import xtconstant\n",
    "order = xt_trader.order_stock(account, stock_code='600519.SH', order_type=xtconstant.STOCK_BUY, price_type=xtconstant.LATEST_PRICE, order_volume=100, price=-1)\n",
    "print(order)"
   ]
  },
  {
   "cell_type": "code",
   "execution_count": null,
   "metadata": {},
   "outputs": [],
   "source": [
    "from xtquant import xtconstant\n",
    "res = xt_trader.order_stock_async(account, stock_code='600519.SH', order_type=xtconstant.STOCK_BUY, price_type=xtconstant.LATEST_PRICE, order_volume=100, price=-1)\n",
    "print(res)"
   ]
  },
  {
   "cell_type": "code",
   "execution_count": null,
   "metadata": {},
   "outputs": [],
   "source": [
    "orders = xt_trader.query_stock_orders(account, cancelable_only = True)\n",
    "print(orders)\n",
    "for order in orders:\n",
    "    res = xt_trader.cancel_order_stock(account, order.order_id)\n",
    "    print(res)"
   ]
  }
 ],
 "metadata": {
  "kernelspec": {
   "display_name": ".venv",
   "language": "python",
   "name": "python3"
  },
  "language_info": {
   "codemirror_mode": {
    "name": "ipython",
    "version": 3
   },
   "file_extension": ".py",
   "mimetype": "text/x-python",
   "name": "python",
   "nbconvert_exporter": "python",
   "pygments_lexer": "ipython3",
   "version": "3.12.5"
  }
 },
 "nbformat": 4,
 "nbformat_minor": 2
}
